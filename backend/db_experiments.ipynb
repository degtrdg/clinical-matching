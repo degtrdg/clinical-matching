{
 "cells": [
  {
   "cell_type": "code",
   "execution_count": 3,
   "metadata": {},
   "outputs": [],
   "source": [
    "# Import Chroma and instantiate a client. The default Chroma client is ephemeral, meaning it will not save to disk.\n",
    "import chromadb\n",
    "\n",
    "# https://docs.trychroma.com/usage-guide\n",
    "client = chromadb.PersistentClient(path=\"./vector_db\")\n",
    "# Create a new Chroma collection to store the supporting evidence. We don't need to specify an embedding fuction, and the default will be used.\n",
    "collection = client.get_or_create_collection(\"clinical_trials\")"
   ]
  },
  {
   "cell_type": "markdown",
   "metadata": {},
   "source": [
    "We need to have the following:\n",
    "- ids\n",
    "- documents\n",
    "- metadata"
   ]
  },
  {
   "cell_type": "code",
   "execution_count": 4,
   "metadata": {},
   "outputs": [],
   "source": [
    "file_path = \"data/NCT04414150.json\"\n",
    "folder = \"data/ctg-studies.json\""
   ]
  },
  {
   "cell_type": "code",
   "execution_count": 5,
   "metadata": {},
   "outputs": [
    {
     "name": "stderr",
     "output_type": "stream",
     "text": [
      "100%|██████████| 13424/13424 [08:21<00:00, 26.75it/s]\n"
     ]
    }
   ],
   "source": [
    "from module.helpers import *\n",
    "\n",
    "json_data = load_json_file(file_path)\n",
    "clinical_trial_summary = process_clinical_trial_data(json_data)\n",
    "clinical_trial_summary\n",
    "\n",
    "# Go through all the clinical trials in the folder and add them to the collection\n",
    "import os\n",
    "from tqdm import tqdm\n",
    "\n",
    "for file in tqdm(os.listdir(folder)):\n",
    "    if file.endswith(\".json\"):\n",
    "        json_data = load_json_file(os.path.join(folder, file))\n",
    "        clinical_trial_summary = process_clinical_trial_data(json_data)\n",
    "        summary_to_embed = format_clinical_trial_summary(clinical_trial_summary)\n",
    "        metadata = turn_json_to_valid_metadata(clinical_trial_summary)\n",
    "        collection.add(\n",
    "            ids=[clinical_trial_summary[\"NCT ID\"]],\n",
    "            documents=[summary_to_embed],\n",
    "            metadatas=[metadata],\n",
    "        )"
   ]
  },
  {
   "cell_type": "code",
   "execution_count": 9,
   "metadata": {},
   "outputs": [
    {
     "data": {
      "text/plain": [
       "{'ids': [['NCT03476070',\n",
       "   'NCT00003329',\n",
       "   'NCT03207594',\n",
       "   'NCT00544336',\n",
       "   'NCT00601406',\n",
       "   'NCT00948337',\n",
       "   'NCT00962494',\n",
       "   'NCT03740503',\n",
       "   'NCT01415089',\n",
       "   'NCT05708703']],\n",
       " 'distances': [[1.0686001777648926,\n",
       "   1.072503924369812,\n",
       "   1.0777868032455444,\n",
       "   1.0817314386367798,\n",
       "   1.0903290510177612,\n",
       "   1.094771146774292,\n",
       "   1.1004599332809448,\n",
       "   1.1009414196014404,\n",
       "   1.1017135381698608,\n",
       "   1.1025917530059814]],\n",
       " 'metadatas': [[{'Brief Summary': 'This study aims to evaluate the prevalence, biological mechanism and survivorship impact of cognitive toxicity among adolescent and young adult (AYA) patients diagnosed with curable cancers. The hypothesis is that cognitive impairment is clinically significant among AYA cancer patients treated with chemotherapy and that there will be detectable structural and functional changes in the brain for this patient group.',\n",
       "    'Brief Title': 'Adolescent and Young Adult Cancer Patients: Cognitive Toxicity on Survivorship (ACTS)',\n",
       "    'Conditions': 'Breast Cancer, Lymphoma, Germ Cell Tumor, Cognitive Impairment',\n",
       "    'Eligibility': \"Eligibility Criteria:\\nHealthy Volunteers: True\\nSex: ALL\\nMinimum Age: 15 Years\\nMaximum Age: 39 Years\\nStandard Ages: ['CHILD', 'ADULT']\\nInclusion Criteria:  * between 15-39 years of age * newly diagnosed with breast cancer, lymphoma or\\ngerm cell tumor with treatment intent determined as curative by medical oncologist * scheduled for\\nchemotherapy with or without non-cranial radiotherapy * no prior history of chemotherapy and/or\\nradiotherapy * able to read and understand English * capable of giving informed consent (or\\nobtaining parents' consent if required)  Exclusion Criteria:  * physically or mentally incapable of\\nproviding verbal/written consent * diagnosed with primary or metastatic brain tumor(s) or relapsed\\ndisease * treatment includes intrathecal or intraventricular chemotherapy * evidence of psychosis or\\nunderlying neuropsychiatric illness that may impair cognitive abilities * have immediate family\\nmember who is enrolled as in the healthy control arm * any contraindication to MRI as stated in the\\nstudy protocol including: pregnancy, metal fragments/implants in body, known claustrophobia, and\\nnon-removable metal orthodontic braces, metallic retainers and oral wires\",\n",
       "    'Interventions Description': '',\n",
       "    'NCT ID': 'NCT03476070',\n",
       "    'Official Title': 'Adolescent and Young Adult Cancer Patients: Cognitive Toxicity on Survivorship (ACTS)'},\n",
       "   {'Brief Summary': \"RATIONALE: Identification of genes that may be associated with developing certain types of cancer may someday provide important information about a person's risk of getting cancer.\\n\\nPURPOSE: This clinical trial is studying to see if certain genes may be associated with cancer in patients with cancer of the breast, prostate, lung, or colon and siblings of these patients.\",\n",
       "    'Brief Title': 'Identification of Genes Associated With Cancer in Patients and Siblings Who Have Cancer',\n",
       "    'Conditions': 'Breast Cancer, Colorectal Cancer, Lung Cancer, Prostate Cancer',\n",
       "    'Eligibility': \"Eligibility Criteria:\\nHealthy Volunteers: False\\nSex: ALL\\nMinimum Age: 0 Years\\nMaximum Age: 120 Years\\nStandard Ages: ['CHILD', 'ADULT', 'OLDER_ADULT']\\nDISEASE CHARACTERISTICS:  * Histologically confirmed colon, lung, prostate, or invasive breast\\ncancer    * No ductal or lobular carcinoma in situ of the breast only * Patient and natural full\\nsibling must have (or have had) cancer of the same type * Participants in E-3Y92 not eligible *\\nHormone receptor status:    * Not specified  PATIENT CHARACTERISTICS:  Age:  * Not specified\\nMenopausal status:  * Not specified  Performance status:  * Not specified  Life expectancy:  * Not\\nspecified  Hematopoietic:  * Not specified  Hepatic:  * Not specified  Renal:  * Not specified\\nPRIOR CONCURRENT THERAPY:  Biologic therapy  * Not specified  Chemotherapy  * Not specified\\nEndocrine therapy  * Not specified  Radiotherapy  * Not specified  Surgery  * Not specified\",\n",
       "    'Interventions Description': 'Not provided',\n",
       "    'NCT ID': 'NCT00003329',\n",
       "    'Official Title': 'ECOG Laboratory Study: Mapping Interactive Cancer Susceptibility Loci'},\n",
       "   {'Brief Summary': 'The purpose of this study is to improve cancer care and the delivery of cancer care. Researchers are interested in studying patient reported information and examining how different factors may impact cancer care.',\n",
       "    'Brief Title': 'Improving Evidence-Based Care for Cancer Patients',\n",
       "    'Conditions': 'Head and Neck Cancer, Prostate Cancer, Breast Cancer, Lung Cancer, Gynecologic Cancer, Gastrointestinal Cancer',\n",
       "    'Eligibility': \"Eligibility Criteria:\\nHealthy Volunteers: False\\nSex: ALL\\nMinimum Age: 21 Years\\nStandard Ages: ['ADULT', 'OLDER_ADULT']\\nInclusion Criteria:  * Diagnosed with head/neck, lung, breast, prostate, gastrointestinal or\\ngynecologic cancer * 21 years of age or older at time of study registration * Must have been\\nreferred to MUSC radiation oncology for treatment with curative radiation therapy * Must report\\ncurrent smoking defined as self-reporting smoking within the past 30 days using a structured intake\\nquestionnaire.  Exclusion Criteria:  * Patients with primary central nervous system malignancies\\nwill be excluded. * Patients that have other cancer disease types will be excluded due to either\\nsignificant differences in standard radiation therapy approaches or rarity of disease required\\nradiation. * Patients who are currently participating in the Medical University of South Carolina\\nHollings Cancer Center smoking cessation program * Patients who are unable to provide informed\\nconsent\",\n",
       "    'Interventions Description': 'Subjects will be asked to complete a survey asking questions about his/her current health, well-being and quality of life., Subjects will have saliva collected by a member of the study team using a cotton swab., Subjects will be asked to complete an assessment asking questions about his/her current smoking status',\n",
       "    'NCT ID': 'NCT03207594',\n",
       "    'Official Title': 'Improving Evidence-Based Care for Cancer Patients'},\n",
       "   {'Brief Summary': 'RATIONALE: Developing a questionnaire that can be used to assess the quality of life among people who have a family member with cancer may help the study of cancer in the future.\\n\\nPURPOSE: This clinical trial is studying quality of life among families with a member who is a cancer patient.',\n",
       "    'Brief Title': 'Family Quality of Life Among Families With a Member Who is a Cancer Patient',\n",
       "    'Conditions': 'Breast Cancer, Colorectal Cancer, Head and Neck Cancer, Lung Cancer, Prostate Cancer, Solid Tumor',\n",
       "    'Eligibility': \"Eligibility Criteria:\\nHealthy Volunteers: True\\nSex: ALL\\nMinimum Age: 21 Years\\nStandard Ages: ['ADULT', 'OLDER_ADULT']\\nInclusion Criteria:  * Patients diagnosed with any local, advanced, or metastatic cancer that has\\nrequired more than a simple surgical procedure    * Ten families with an adult patient with breast,\\nprostate, lung, colon, or head and neck cancer are interviewed for step 1 portion of the study * An\\navailable adult family member willing to participate in the study    * The term family is defined\\nbroadly to include adults over 21 years of age, considered by the cancer patient as a family member,\\nwho provides care or support and/or shares the cancer experience with the patient   * Family members\\ndo not need to be biologically related to the patient or related through marriage, and may or may\\nnot live in the same house with the patient  Exclusion Criteria:  * Able to read, write, and speak\\nEnglish  PRIOR CONCURRENT THERAPY:  * See Disease Characteristics\",\n",
       "    'Interventions Description': 'no intervention, no intervention, no intervention',\n",
       "    'NCT ID': 'NCT00544336',\n",
       "    'Official Title': 'Assessment of Family Quality of Life Among Families With a Member Who is a Cancer Patient'},\n",
       "   {'Brief Summary': 'RATIONALE: Studying samples of blood from patients with cancer in the laboratory may help doctors learn more about changes that occur in DNA and identify biomarkers related to cancer. It may also help doctors predict how patients will respond to treatment.\\n\\nPURPOSE: This clinical trial is evaluating DNA mutations in predicting the effect of external-beam radiation therapy in patients with early breast cancer, localized prostate cancer, or gynecologic cancer.',\n",
       "    'Brief Title': 'Study of DNA Mutations in Predicting the Effect of External-Beam Radiation Therapy in Patients With Early Breast Cancer, Localized Prostate Cancer, or Gynecological Cancer',\n",
       "    'Conditions': 'Breast Cancer, Cervical Cancer, Endometrial Cancer, Fallopian Tube Cancer, Ovarian Cancer, Primary Peritoneal Cavity Cancer, Prostate Cancer, Sarcoma, Vaginal Cancer, Vulvar Cancer',\n",
       "    'Eligibility': \"Eligibility Criteria:\\nHealthy Volunteers: False\\nSex: ALL\\nStandard Ages: ['CHILD', 'ADULT', 'OLDER_ADULT']\\nDISEASE CHARACTERISTICS:  * Patients must have received curative external-beam radiotherapy within\\nthe context of a formal clinical study for any of the following:    * Early breast cancer after\\nbreast-conserving surgery   * Localized prostate cancer   * Gynecological cancer (may have also\\nreceived brachytherapy) * Venous blood samples must be available * Patients will be identified from\\nthe following clinical studies:    * Cambridge intensity-modulated radiotherapy breast randomized\\ntrial   * RT01 prostate radiotherapy randomized trial/other prostate trials   * Christie hospital\\nbreast, prostate, and gynecological cancer radiotherapy patients * Must have minimum follow up with\\nlate normal tissue effect scoring for two years available  PATIENT CHARACTERISTICS:  * No other\\nmalignancy prior to treatment for the specified tumor types except basal cell or squamous cell\\ncarcinoma of the skin or in situ carcinoma  PRIOR CONCURRENT THERAPY:  * See Disease Characteristics\",\n",
       "    'Interventions Description': 'Not provided, Not provided, Not provided, Not provided, Not provided',\n",
       "    'NCT ID': 'NCT00601406',\n",
       "    'Official Title': 'Radiogenomics: Assessment of Polymorphisms for Predicting the Effects of Radiotherapy (RAPPER)'},\n",
       "   {'Brief Summary': 'The purpose of this study is to provide educational material to promote screening for second primary cancer for the intervention group, or educational material to instruct appropriate use of dietary supplement for the control group.',\n",
       "    'Brief Title': 'A Study With Health Educational Material on Health Promotion in Cancer Survivors',\n",
       "    'Conditions': 'Stomach Cancer, Colon Cancer, Thyroid Cancer, Breast Cancer',\n",
       "    'Eligibility': \"Eligibility Criteria:\\nHealthy Volunteers: False\\nSex: ALL\\nMinimum Age: 18 Years\\nMaximum Age: 80 Years\\nStandard Ages: ['ADULT', 'OLDER_ADULT']\\nInclusion Criteria:  * Age \\\\>=18, \\\\<80 * Cancer survivors (pathologically confirmed) * Finished\\nprimary treatment (surgery, radiotherapy, chemotherapy) * \\\\>= 1 year from cancer diagnosis * No\\nevidence of recurrence, metastasis, and second primary cancer * No evidence of hereditary cancer *\\nECOG 0,1,2 * Ability in reading Korean educational material  Exclusion Criteria:  * ECOG 3,4 *\\nDisagree with the investigators study purpose\",\n",
       "    'Interventions Description': 'One kind of printed educational material',\n",
       "    'NCT ID': 'NCT00948337',\n",
       "    'Official Title': 'A Randomized Controlled Trial on the Effect of Intervention With Health Educational Material on Knowledge, Attitude, and Behavior in Cancer Survivors'},\n",
       "   {'Brief Summary': 'Cancer: Surviving and Thriving is a 6-week workshop for cancer survivors. The overall goal of the study is to determine whether an online cancer survivor education and support workshop can have lasting beneficial effects in helping survivors improve their self-management of health skills and quality of life.',\n",
       "    'Brief Title': 'Cancer: Thriving and Surviving Online Workshop and Study for Cancer Survivors',\n",
       "    'Conditions': 'Blood Cancer, Breast Cancer, Prostatic Neoplasms, Colorectal Neoplasms, Neoplasms',\n",
       "    'Eligibility': \"Eligibility Criteria:\\nHealthy Volunteers: False\\nSex: ALL\\nMinimum Age: 19 Years\\nStandard Ages: ['ADULT', 'OLDER_ADULT']\\nInclusion Criteria:Any adult (19 and over) cancer survivor living in the United States who: 1) was\\ndiagnosed within the past 5 years with a new or recurring cancer since the original diagnosis; 2)\\nhas completed their cancer treatment (surgery, radiation and/or chemotherapy); 3) isn't currently\\nbeing treated for cancer except for hormonal therapy; and 4) has and email account and access to\\nhigh speed internet connection. Exclusion Criteria:Not meeting the inclusion criteria\",\n",
       "    'Interventions Description': 'Not provided',\n",
       "    'NCT ID': 'NCT00962494',\n",
       "    'Official Title': 'Cancer Survivors Online Self-Management Workshop'},\n",
       "   {'Brief Summary': \"Studies have shown that tumors from the same patient may respond very differently to the same therapeutic agents. This study aims to investigate the genetic basis of tumors that respond abnormally well or poorly to therapeutic agents in an effort to understand the fundamental genetic basis of this response. The present protocol seeks to retrospectively perform Exome, next-generation (DNA) sequencing and/or other molecular techniques on tumor samples to identify the genetic basis of a patient's exceptional response to chemotherapy.\",\n",
       "    'Brief Title': 'Genomic Investigation of Unusual Responders',\n",
       "    'Conditions': 'Cancer, Breast Cancer, Non-small Cell Lung Cancer, Colorectal Cancer, Genitourinary Cancer, Gynecological Cancer, Upper Aerodigestive Tract Cancer, Pancreatobiliary Gastrointestinal Cancer, Melanoma (Skin), Rare Cancer, Carcinoma of Unknown Primary',\n",
       "    'Eligibility': \"Eligibility Criteria:\\nHealthy Volunteers: False\\nSex: ALL\\nMinimum Age: 18 Years\\nStandard Ages: ['ADULT', 'OLDER_ADULT']\\nInclusion Criteria:  1. The patient must have either an exceptionally good or poor response to\\ntreatment, as indicated by their treating physician.     1. The exact definition of this is\\nadaptable to the disease but a suggested guideline is a Complete Response, Partial Response or\\nprogression free interval of at least 6 months    2. Exceptionally poor response includes patients\\nwho were expected to respond favourably to a treatment but instead responded poorly (e.g dramatic\\ntumor growth or death) 2. The patient must have sufficient archival tumor available for sequencing.\\n3. Deceased patients will also be considered for analysis (up to 30 patients per year) if they meet\\nat least one of the following requirements:     a)) Patients who have archival tissue stored within\\nthe UHN Laboratory Medicine Program who have had a consent waiver granted by the REB to access the\\ntissue.     b) Patients who have archival tissue banked for further research within the UHN\\nBiospecimen Sciences Program     Exclusion Criteria:    * None\",\n",
       "    'Interventions Description': '',\n",
       "    'NCT ID': 'NCT03740503',\n",
       "    'Official Title': 'Genomic Investigation of Unusual Responders'},\n",
       "   {'Brief Summary': 'The purpose of this pilot study is to develop a personalized, interactive, and web-based module for cancer patients and a family caregiver. The three-session module will be designed to help patients and family caregivers improve their communication and support.',\n",
       "    'Brief Title': 'Tailored Web-Based Intervention for Cancer Patients and Family Caregivers',\n",
       "    'Conditions': 'Breast Cancer, Colorectal Cancer, Lung Cancer, Prostate Cancer',\n",
       "    'Eligibility': 'Eligibility Criteria:\\nHealthy Volunteers: False\\nSex: ALL\\nMinimum Age: 18 Years\\nStandard Ages: [\\'ADULT\\', \\'OLDER_ADULT\\']\\nInclusion Criteria:  * cancer patients with confirmed diagnosis of breast, colorectal, lung or\\nprostate cancer * early stage (I or II, diagnosed within past 2 to 12 months) OR advanced stage (III\\nor IV, diagnosed or progressed within past 2 to 12 months) * age 18 or older * physically/mentally\\nable to participate * speak/read/write English * have access to internet at home * have a family\\ncaregiver willing to participate * family caregivers must be age 18 or older, physically/mentally\\nable to participate, able to speak/read/write English, identified by the patient as his or her\\nprimarily family caregiver, and have access to and willing to use the internet. \"Family caregiver\"\\nis defined as the family member or significant other identified by the patient as his or her primary\\nsource of emotional or physical support during the current cancer experience and confirmed by the\\ndesignated individual.  Exclusion Criteria:  * Family caregivers will be excluded from the study if\\nthey themselves have been diagnosed with cancer in the previous year or are receiving active\\ntreatment for cancer. This criteria was established so all dyads are managing effects of cancer in\\npatients, not the family caregivers.',\n",
       "    'Interventions Description': 'A 3-session individually tailored, interactive, web-based program providing support and education for cancer patients and one of their family caregivers.',\n",
       "    'NCT ID': 'NCT01415089',\n",
       "    'Official Title': 'Tailored Web-Based Intervention for Cancer Patients and Family Caregivers'},\n",
       "   {'Brief Summary': 'A total of 80 individuals receiving treatment for metastatic breast or advanced stage ovarian cancer will be asked to complete a baseline survey and install the mobile app on their smartphone; carry the smartphone for 28 consecutive days while outside the home; keep smartphone location and motion services active; confirm and correct (if needed) smartphone-detected activities and trips; use the app interface to provide additional information on activities and trips related to cancer treatment tasks; complete daily surveys regarding well-being; and at the end of the 28 day period, complete an online survey.',\n",
       "    'Brief Title': 'Assessing the Time Demands of Cancer',\n",
       "    'Conditions': 'Metastatic Breast Cancer, Ovarian Cancer',\n",
       "    'Eligibility': \"Eligibility Criteria:\\nHealthy Volunteers: False\\nSex: ALL\\nMinimum Age: 18 Years\\nStandard Ages: ['ADULT', 'OLDER_ADULT']\\nInclusion Criteria:  * 18 years of age or older * Diagnosed with advanced stage (III, IV) ovarian\\n(ovarian, fallopian tube or prmary peritoneal) or metastatic breast cancer \\\\[do not need to be newly\\ndiagnosed\\\\] * Currently receiving any type of therapy for their cancer \\\\[can be front-line,\\nmaintenance therapy, or treatment for recurrence\\\\] * Able to complete study tasks in English * Able\\nto provide voluntary informed consent * Own an Android or iOS smartphone on which the operating\\nsystem is version 9.0 or higher for Android or 10.0 higher for iOS; or willing to use a researcher-\\nprovided smartphone  Exclusion Criteria:  * Those who are currently incarcerated * Have opted out of\\nresearch contact\",\n",
       "    'Interventions Description': '',\n",
       "    'NCT ID': 'NCT05708703',\n",
       "    'Official Title': 'Time Toxicity of Cancer: the Time Demands of Cancer-related Activities and Their Impact on Well-being and Quality of Life'}]],\n",
       " 'embeddings': None,\n",
       " 'documents': [[\"Clinical Trial Summary:\\n\\nNCT ID: NCT03476070\\nBrief Title: Adolescent and Young Adult Cancer Patients: Cognitive Toxicity on Survivorship\\n(ACTS)\\nBrief Summary: This study aims to evaluate the prevalence, biological mechanism and\\nsurvivorship impact of cognitive toxicity among adolescent and young adult (AYA)\\npatients diagnosed with curable cancers. The hypothesis is that cognitive\\nimpairment is clinically significant among AYA cancer patients treated with\\nchemotherapy and that there will be detectable structural and functional changes\\nin the brain for this patient group.\\nOfficial Title: Adolescent and Young Adult Cancer Patients: Cognitive Toxicity on Survivorship\\n(ACTS)\\nConditions:\\n• Breast Cancer\\n• Lymphoma\\n• Germ Cell Tumor\\n• Cognitive Impairment\\n\\nEligibility Criteria:\\nHealthy Volunteers: True\\nSex: ALL\\nMinimum Age: 15 Years\\nMaximum Age: 39 Years\\nStandard Ages: ['CHILD', 'ADULT']\\nInclusion Criteria:  * between 15-39 years of age * newly diagnosed with breast cancer, lymphoma or\\ngerm cell tumor with treatment intent determined as curative by medical oncologist * scheduled for\\nchemotherapy with or without non-cranial radiotherapy * no prior history of chemotherapy and/or\\nradiotherapy * able to read and understand English * capable of giving informed consent (or\\nobtaining parents' consent if required)  Exclusion Criteria:  * physically or mentally incapable of\\nproviding verbal/written consent * diagnosed with primary or metastatic brain tumor(s) or relapsed\\ndisease * treatment includes intrathecal or intraventricular chemotherapy * evidence of psychosis or\\nunderlying neuropsychiatric illness that may impair cognitive abilities * have immediate family\\nmember who is enrolled as in the healthy control arm * any contraindication to MRI as stated in the\\nstudy protocol including: pregnancy, metal fragments/implants in body, known claustrophobia, and\\nnon-removable metal orthodontic braces, metallic retainers and oral wires\",\n",
       "   \"Clinical Trial Summary:\\n\\nNCT ID: NCT00003329\\nBrief Title: Identification of Genes Associated With Cancer in Patients and Siblings Who Have\\nCancer\\nBrief Summary: RATIONALE: Identification of genes that may be associated with developing\\ncertain types of cancer may someday provide important information about a\\nperson's risk of getting cancer.  PURPOSE: This clinical trial is studying to\\nsee if certain genes may be associated with cancer in patients with cancer of\\nthe breast, prostate, lung, or colon and siblings of these patients.\\nOfficial Title: ECOG Laboratory Study: Mapping Interactive Cancer Susceptibility Loci\\nConditions:\\n• Breast Cancer\\n• Colorectal Cancer\\n• Lung Cancer\\n• Prostate Cancer\\n\\nEligibility Criteria:\\nHealthy Volunteers: False\\nSex: ALL\\nMinimum Age: 0 Years\\nMaximum Age: 120 Years\\nStandard Ages: ['CHILD', 'ADULT', 'OLDER_ADULT']\\nDISEASE CHARACTERISTICS:  * Histologically confirmed colon, lung, prostate, or invasive breast\\ncancer    * No ductal or lobular carcinoma in situ of the breast only * Patient and natural full\\nsibling must have (or have had) cancer of the same type * Participants in E-3Y92 not eligible *\\nHormone receptor status:    * Not specified  PATIENT CHARACTERISTICS:  Age:  * Not specified\\nMenopausal status:  * Not specified  Performance status:  * Not specified  Life expectancy:  * Not\\nspecified  Hematopoietic:  * Not specified  Hepatic:  * Not specified  Renal:  * Not specified\\nPRIOR CONCURRENT THERAPY:  Biologic therapy  * Not specified  Chemotherapy  * Not specified\\nEndocrine therapy  * Not specified  Radiotherapy  * Not specified  Surgery  * Not specified\",\n",
       "   \"Clinical Trial Summary:\\n\\nNCT ID: NCT03207594\\nBrief Title: Improving Evidence-Based Care for Cancer Patients\\nBrief Summary: The purpose of this study is to improve cancer care and the delivery of cancer\\ncare. Researchers are interested in studying patient reported information and\\nexamining how different factors may impact cancer care.\\nOfficial Title: Improving Evidence-Based Care for Cancer Patients\\nConditions:\\n• Head and Neck Cancer\\n• Prostate Cancer\\n• Breast Cancer\\n• Lung Cancer\\n• Gynecologic Cancer\\n• Gastrointestinal Cancer\\n\\nInterventions Description:\\n• Subjects will be asked to complete a survey asking questions about his/her current health, well-\\nbeing and quality of life. • Subjects will have saliva collected by a member of the study team using\\na cotton swab. • Subjects will be asked to complete an assessment asking questions about his/her\\ncurrent smoking status\\n\\nEligibility Criteria:\\nHealthy Volunteers: False\\nSex: ALL\\nMinimum Age: 21 Years\\nStandard Ages: ['ADULT', 'OLDER_ADULT']\\nInclusion Criteria:  * Diagnosed with head/neck, lung, breast, prostate, gastrointestinal or\\ngynecologic cancer * 21 years of age or older at time of study registration * Must have been\\nreferred to MUSC radiation oncology for treatment with curative radiation therapy * Must report\\ncurrent smoking defined as self-reporting smoking within the past 30 days using a structured intake\\nquestionnaire.  Exclusion Criteria:  * Patients with primary central nervous system malignancies\\nwill be excluded. * Patients that have other cancer disease types will be excluded due to either\\nsignificant differences in standard radiation therapy approaches or rarity of disease required\\nradiation. * Patients who are currently participating in the Medical University of South Carolina\\nHollings Cancer Center smoking cessation program * Patients who are unable to provide informed\\nconsent\",\n",
       "   \"Clinical Trial Summary:\\n\\nNCT ID: NCT00544336\\nBrief Title: Family Quality of Life Among Families With a Member Who is a Cancer Patient\\nBrief Summary: RATIONALE: Developing a questionnaire that can be used to assess the quality of\\nlife among people who have a family member with cancer may help the study of\\ncancer in the future.  PURPOSE: This clinical trial is studying quality of life\\namong families with a member who is a cancer patient.\\nOfficial Title: Assessment of Family Quality of Life Among Families With a Member Who is a\\nCancer Patient\\nConditions:\\n• Breast Cancer\\n• Colorectal Cancer\\n• Head and Neck Cancer\\n• Lung Cancer\\n• Prostate Cancer\\n• Solid Tumor\\n\\nInterventions Description:\\n• no intervention • no intervention • no intervention\\n\\nEligibility Criteria:\\nHealthy Volunteers: True\\nSex: ALL\\nMinimum Age: 21 Years\\nStandard Ages: ['ADULT', 'OLDER_ADULT']\\nInclusion Criteria:  * Patients diagnosed with any local, advanced, or metastatic cancer that has\\nrequired more than a simple surgical procedure    * Ten families with an adult patient with breast,\\nprostate, lung, colon, or head and neck cancer are interviewed for step 1 portion of the study * An\\navailable adult family member willing to participate in the study    * The term family is defined\\nbroadly to include adults over 21 years of age, considered by the cancer patient as a family member,\\nwho provides care or support and/or shares the cancer experience with the patient   * Family members\\ndo not need to be biologically related to the patient or related through marriage, and may or may\\nnot live in the same house with the patient  Exclusion Criteria:  * Able to read, write, and speak\\nEnglish  PRIOR CONCURRENT THERAPY:  * See Disease Characteristics\",\n",
       "   \"Clinical Trial Summary:\\n\\nNCT ID: NCT00601406\\nBrief Title: Study of DNA Mutations in Predicting the Effect of External-Beam Radiation\\nTherapy in Patients With Early Breast Cancer, Localized Prostate Cancer, or\\nGynecological Cancer\\nBrief Summary: RATIONALE: Studying samples of blood from patients with cancer in the laboratory\\nmay help doctors learn more about changes that occur in DNA and identify\\nbiomarkers related to cancer. It may also help doctors predict how patients will\\nrespond to treatment.  PURPOSE: This clinical trial is evaluating DNA mutations\\nin predicting the effect of external-beam radiation therapy in patients with\\nearly breast cancer, localized prostate cancer, or gynecologic cancer.\\nOfficial Title: Radiogenomics: Assessment of Polymorphisms for Predicting the Effects of\\nRadiotherapy (RAPPER)\\nConditions:\\n• Breast Cancer\\n• Cervical Cancer\\n• Endometrial Cancer\\n• Fallopian Tube Cancer\\n• Ovarian Cancer\\n• Primary Peritoneal Cavity Cancer\\n• Prostate Cancer\\n• Sarcoma\\n• Vaginal Cancer\\n• Vulvar Cancer\\n\\nEligibility Criteria:\\nHealthy Volunteers: False\\nSex: ALL\\nStandard Ages: ['CHILD', 'ADULT', 'OLDER_ADULT']\\nDISEASE CHARACTERISTICS:  * Patients must have received curative external-beam radiotherapy within\\nthe context of a formal clinical study for any of the following:    * Early breast cancer after\\nbreast-conserving surgery   * Localized prostate cancer   * Gynecological cancer (may have also\\nreceived brachytherapy) * Venous blood samples must be available * Patients will be identified from\\nthe following clinical studies:    * Cambridge intensity-modulated radiotherapy breast randomized\\ntrial   * RT01 prostate radiotherapy randomized trial/other prostate trials   * Christie hospital\\nbreast, prostate, and gynecological cancer radiotherapy patients * Must have minimum follow up with\\nlate normal tissue effect scoring for two years available  PATIENT CHARACTERISTICS:  * No other\\nmalignancy prior to treatment for the specified tumor types except basal cell or squamous cell\\ncarcinoma of the skin or in situ carcinoma  PRIOR CONCURRENT THERAPY:  * See Disease Characteristics\",\n",
       "   \"Clinical Trial Summary:\\n\\nNCT ID: NCT00948337\\nBrief Title: A Study With Health Educational Material on Health Promotion in Cancer Survivors\\nBrief Summary: The purpose of this study is to provide educational material to promote\\nscreening for second primary cancer for the intervention group, or educational\\nmaterial to instruct appropriate use of dietary supplement for the control\\ngroup.\\nOfficial Title: A Randomized Controlled Trial on the Effect of Intervention With Health\\nEducational Material on Knowledge, Attitude, and Behavior in Cancer Survivors\\nConditions:\\n• Stomach Cancer\\n• Colon Cancer\\n• Thyroid Cancer\\n• Breast Cancer\\n\\nInterventions Description:\\n• One kind of printed educational material\\n\\nEligibility Criteria:\\nHealthy Volunteers: False\\nSex: ALL\\nMinimum Age: 18 Years\\nMaximum Age: 80 Years\\nStandard Ages: ['ADULT', 'OLDER_ADULT']\\nInclusion Criteria:  * Age \\\\>=18, \\\\<80 * Cancer survivors (pathologically confirmed) * Finished\\nprimary treatment (surgery, radiotherapy, chemotherapy) * \\\\>= 1 year from cancer diagnosis * No\\nevidence of recurrence, metastasis, and second primary cancer * No evidence of hereditary cancer *\\nECOG 0,1,2 * Ability in reading Korean educational material  Exclusion Criteria:  * ECOG 3,4 *\\nDisagree with the investigators study purpose\",\n",
       "   \"Clinical Trial Summary:\\n\\nNCT ID: NCT00962494\\nBrief Title: Cancer: Thriving and Surviving Online Workshop and Study for Cancer Survivors\\nBrief Summary: Cancer: Surviving and Thriving is a 6-week workshop for cancer survivors. The\\noverall goal of the study is to determine whether an online cancer survivor\\neducation and support workshop can have lasting beneficial effects in helping\\nsurvivors improve their self-management of health skills and quality of life.\\nOfficial Title: Cancer Survivors Online Self-Management Workshop\\nConditions:\\n• Blood Cancer\\n• Breast Cancer\\n• Prostatic Neoplasms\\n• Colorectal Neoplasms\\n• Neoplasms\\n\\nEligibility Criteria:\\nHealthy Volunteers: False\\nSex: ALL\\nMinimum Age: 19 Years\\nStandard Ages: ['ADULT', 'OLDER_ADULT']\\nInclusion Criteria:Any adult (19 and over) cancer survivor living in the United States who: 1) was\\ndiagnosed within the past 5 years with a new or recurring cancer since the original diagnosis; 2)\\nhas completed their cancer treatment (surgery, radiation and/or chemotherapy); 3) isn't currently\\nbeing treated for cancer except for hormonal therapy; and 4) has and email account and access to\\nhigh speed internet connection. Exclusion Criteria:Not meeting the inclusion criteria\",\n",
       "   \"Clinical Trial Summary:\\n\\nNCT ID: NCT03740503\\nBrief Title: Genomic Investigation of Unusual Responders\\nBrief Summary: Studies have shown that tumors from the same patient may respond very\\ndifferently to the same therapeutic agents. This study aims to investigate the\\ngenetic basis of tumors that respond abnormally well or poorly to therapeutic\\nagents in an effort to understand the fundamental genetic basis of this\\nresponse. The present protocol seeks to retrospectively perform Exome, next-\\ngeneration (DNA) sequencing and/or other molecular techniques on tumor samples\\nto identify the genetic basis of a patient's exceptional response to\\nchemotherapy.\\nOfficial Title: Genomic Investigation of Unusual Responders\\nConditions:\\n• Cancer\\n• Breast Cancer\\n• Non-small Cell Lung Cancer\\n• Colorectal Cancer\\n• Genitourinary Cancer\\n• Gynecological Cancer\\n• Upper Aerodigestive Tract Cancer\\n• Pancreatobiliary Gastrointestinal Cancer\\n• Melanoma (Skin)\\n• Rare Cancer\\n• Carcinoma of Unknown Primary\\n\\nEligibility Criteria:\\nHealthy Volunteers: False\\nSex: ALL\\nMinimum Age: 18 Years\\nStandard Ages: ['ADULT', 'OLDER_ADULT']\\nInclusion Criteria:  1. The patient must have either an exceptionally good or poor response to\\ntreatment, as indicated by their treating physician.     1. The exact definition of this is\\nadaptable to the disease but a suggested guideline is a Complete Response, Partial Response or\\nprogression free interval of at least 6 months    2. Exceptionally poor response includes patients\\nwho were expected to respond favourably to a treatment but instead responded poorly (e.g dramatic\\ntumor growth or death) 2. The patient must have sufficient archival tumor available for sequencing.\\n3. Deceased patients will also be considered for analysis (up to 30 patients per year) if they meet\\nat least one of the following requirements:     a)) Patients who have archival tissue stored within\\nthe UHN Laboratory Medicine Program who have had a consent waiver granted by the REB to access the\\ntissue.     b) Patients who have archival tissue banked for further research within the UHN\\nBiospecimen Sciences Program     Exclusion Criteria:    * None\",\n",
       "   'Clinical Trial Summary:\\n\\nNCT ID: NCT01415089\\nBrief Title: Tailored Web-Based Intervention for Cancer Patients and Family Caregivers\\nBrief Summary: The purpose of this pilot study is to develop a personalized, interactive, and\\nweb-based module for cancer patients and a family caregiver. The three-session\\nmodule will be designed to help patients and family caregivers improve their\\ncommunication and support.\\nOfficial Title: Tailored Web-Based Intervention for Cancer Patients and Family Caregivers\\nConditions:\\n• Breast Cancer\\n• Colorectal Cancer\\n• Lung Cancer\\n• Prostate Cancer\\n\\nInterventions Description:\\n• A 3-session individually tailored, interactive, web-based program providing support and education\\nfor cancer patients and one of their family caregivers.\\n\\nEligibility Criteria:\\nHealthy Volunteers: False\\nSex: ALL\\nMinimum Age: 18 Years\\nStandard Ages: [\\'ADULT\\', \\'OLDER_ADULT\\']\\nInclusion Criteria:  * cancer patients with confirmed diagnosis of breast, colorectal, lung or\\nprostate cancer * early stage (I or II, diagnosed within past 2 to 12 months) OR advanced stage (III\\nor IV, diagnosed or progressed within past 2 to 12 months) * age 18 or older * physically/mentally\\nable to participate * speak/read/write English * have access to internet at home * have a family\\ncaregiver willing to participate * family caregivers must be age 18 or older, physically/mentally\\nable to participate, able to speak/read/write English, identified by the patient as his or her\\nprimarily family caregiver, and have access to and willing to use the internet. \"Family caregiver\"\\nis defined as the family member or significant other identified by the patient as his or her primary\\nsource of emotional or physical support during the current cancer experience and confirmed by the\\ndesignated individual.  Exclusion Criteria:  * Family caregivers will be excluded from the study if\\nthey themselves have been diagnosed with cancer in the previous year or are receiving active\\ntreatment for cancer. This criteria was established so all dyads are managing effects of cancer in\\npatients, not the family caregivers.',\n",
       "   \"Clinical Trial Summary:\\n\\nNCT ID: NCT05708703\\nBrief Title: Assessing the Time Demands of Cancer\\nBrief Summary: A total of 80 individuals receiving treatment for metastatic breast or advanced\\nstage ovarian cancer will be asked to complete a baseline survey and install the\\nmobile app on their smartphone; carry the smartphone for 28 consecutive days\\nwhile outside the home; keep smartphone location and motion services active;\\nconfirm and correct (if needed) smartphone-detected activities and trips; use\\nthe app interface to provide additional information on activities and trips\\nrelated to cancer treatment tasks; complete daily surveys regarding well-being;\\nand at the end of the 28 day period, complete an online survey.\\nOfficial Title: Time Toxicity of Cancer: the Time Demands of Cancer-related Activities and Their\\nImpact on Well-being and Quality of Life\\nConditions:\\n• Metastatic Breast Cancer\\n• Ovarian Cancer\\n\\nEligibility Criteria:\\nHealthy Volunteers: False\\nSex: ALL\\nMinimum Age: 18 Years\\nStandard Ages: ['ADULT', 'OLDER_ADULT']\\nInclusion Criteria:  * 18 years of age or older * Diagnosed with advanced stage (III, IV) ovarian\\n(ovarian, fallopian tube or prmary peritoneal) or metastatic breast cancer \\\\[do not need to be newly\\ndiagnosed\\\\] * Currently receiving any type of therapy for their cancer \\\\[can be front-line,\\nmaintenance therapy, or treatment for recurrence\\\\] * Able to complete study tasks in English * Able\\nto provide voluntary informed consent * Own an Android or iOS smartphone on which the operating\\nsystem is version 9.0 or higher for Android or 10.0 higher for iOS; or willing to use a researcher-\\nprovided smartphone  Exclusion Criteria:  * Those who are currently incarcerated * Have opted out of\\nresearch contact\"]]}"
      ]
     },
     "execution_count": 9,
     "metadata": {},
     "output_type": "execute_result"
    }
   ],
   "source": [
    "collection.query(\n",
    "    query_texts=[\"Cancer\"],\n",
    "    n_results=10,\n",
    "    # where={\"metadata_field\": \"is_equal_to_this\"},\n",
    "    # where_document={\"$contains\":\"search_string\"}\n",
    ")"
   ]
  }
 ],
 "metadata": {
  "kernelspec": {
   "display_name": "Python 3",
   "language": "python",
   "name": "python3"
  },
  "language_info": {
   "codemirror_mode": {
    "name": "ipython",
    "version": 3
   },
   "file_extension": ".py",
   "mimetype": "text/x-python",
   "name": "python",
   "nbconvert_exporter": "python",
   "pygments_lexer": "ipython3",
   "version": "3.9.15"
  }
 },
 "nbformat": 4,
 "nbformat_minor": 2
}
